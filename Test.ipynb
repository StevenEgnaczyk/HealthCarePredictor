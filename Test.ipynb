{
 "cells": [
  {
   "cell_type": "code",
   "execution_count": 1,
   "metadata": {},
   "outputs": [],
   "source": [
    "import pandas as pd\n",
    "from nltk.tokenize import word_tokenize\n",
    "from nltk.corpus import stopwords\n",
    "from nltk.stem import PorterStemmer\n",
    "from sklearn.feature_extraction.text import CountVectorizer\n",
    "from sklearn.model_selection import train_test_split\n",
    "from sklearn.ensemble import RandomForestClassifier\n",
    "from sklearn.metrics import accuracy_score\n",
    "import time\n",
    "import sys\n",
    "from sklearn.svm import SVC\n",
    "import numpy as np\n",
    "import nltk\n",
    "import pandas as pd\n",
    "from sklearn.model_selection import train_test_split\n",
    "from sklearn.feature_extraction.text import CountVectorizer\n",
    "from sklearn.feature_selection import SelectKBest, chi2\n",
    "from sklearn.preprocessing import StandardScaler\n",
    "from sklearn.metrics import roc_curve, precision_score, f1_score, recall_score, roc_auc_score\n",
    "from nltk.stem import PorterStemmer\n",
    "from nltk.corpus import stopwords\n",
    "import matplotlib.pyplot as plt\n",
    "from sklearn.neighbors import KNeighborsClassifier\n",
    "from sklearn.tree import DecisionTreeClassifier\n",
    "from sklearn.naive_bayes import MultinomialNB"
   ]
  },
  {
   "cell_type": "code",
   "execution_count": 2,
   "metadata": {},
   "outputs": [],
   "source": [
    "# Load the data\n",
    "data = pd.read_csv('train/train_radiology.csv')"
   ]
  },
  {
   "cell_type": "code",
   "execution_count": 4,
   "metadata": {},
   "outputs": [],
   "source": [
    "data.drop(columns=['charttime','note_type','note_seq'],inplace=True)"
   ]
  },
  {
   "cell_type": "code",
   "execution_count": 5,
   "metadata": {},
   "outputs": [
    {
     "data": {
      "text/html": [
       "<div>\n",
       "<style scoped>\n",
       "    .dataframe tbody tr th:only-of-type {\n",
       "        vertical-align: middle;\n",
       "    }\n",
       "\n",
       "    .dataframe tbody tr th {\n",
       "        vertical-align: top;\n",
       "    }\n",
       "\n",
       "    .dataframe thead th {\n",
       "        text-align: right;\n",
       "    }\n",
       "</style>\n",
       "<table border=\"1\" class=\"dataframe\">\n",
       "  <thead>\n",
       "    <tr style=\"text-align: right;\">\n",
       "      <th></th>\n",
       "      <th>patient_id</th>\n",
       "      <th>text</th>\n",
       "    </tr>\n",
       "  </thead>\n",
       "  <tbody>\n",
       "    <tr>\n",
       "      <th>0</th>\n",
       "      <td>p100001</td>\n",
       "      <td>AP CHEST, 7:27 A.M., ___.  HISTORY:  ___ man w...</td>\n",
       "    </tr>\n",
       "    <tr>\n",
       "      <th>1</th>\n",
       "      <td>p100001</td>\n",
       "      <td>INDICATION:  ___ year old man with pneumonia a...</td>\n",
       "    </tr>\n",
       "    <tr>\n",
       "      <th>2</th>\n",
       "      <td>p100002</td>\n",
       "      <td>EXAMINATION:  CTA CHEST WANDW/O CANDRECONS, NO...</td>\n",
       "    </tr>\n",
       "    <tr>\n",
       "      <th>3</th>\n",
       "      <td>p100004</td>\n",
       "      <td>EXAMINATION:  Left vertebral artery angiogram....</td>\n",
       "    </tr>\n",
       "    <tr>\n",
       "      <th>4</th>\n",
       "      <td>p100004</td>\n",
       "      <td>EXAMINATION:  CTA HEAD AND CTA NECK Q16 CT  IN...</td>\n",
       "    </tr>\n",
       "    <tr>\n",
       "      <th>...</th>\n",
       "      <td>...</td>\n",
       "      <td>...</td>\n",
       "    </tr>\n",
       "    <tr>\n",
       "      <th>27917</th>\n",
       "      <td>p117132</td>\n",
       "      <td>EXAMINATION:  CHEST (PORTABLE AP)  INDICATION:...</td>\n",
       "    </tr>\n",
       "    <tr>\n",
       "      <th>27918</th>\n",
       "      <td>p117132</td>\n",
       "      <td>EXAMINATION:  CHEST (PORTABLE AP)  INDICATION:...</td>\n",
       "    </tr>\n",
       "    <tr>\n",
       "      <th>27919</th>\n",
       "      <td>p117132</td>\n",
       "      <td>EXAMINATION:  CHEST (PORTABLE AP)  INDICATION:...</td>\n",
       "    </tr>\n",
       "    <tr>\n",
       "      <th>27920</th>\n",
       "      <td>p117132</td>\n",
       "      <td>EXAMINATION:  FEMORAL VASCULAR US LEFT PORT  I...</td>\n",
       "    </tr>\n",
       "    <tr>\n",
       "      <th>27921</th>\n",
       "      <td>p117132</td>\n",
       "      <td>EXAMINATION:  CHEST (PORTABLE AP)  INDICATION:...</td>\n",
       "    </tr>\n",
       "  </tbody>\n",
       "</table>\n",
       "<p>27922 rows × 2 columns</p>\n",
       "</div>"
      ],
      "text/plain": [
       "      patient_id                                               text\n",
       "0        p100001  AP CHEST, 7:27 A.M., ___.  HISTORY:  ___ man w...\n",
       "1        p100001  INDICATION:  ___ year old man with pneumonia a...\n",
       "2        p100002  EXAMINATION:  CTA CHEST WANDW/O CANDRECONS, NO...\n",
       "3        p100004  EXAMINATION:  Left vertebral artery angiogram....\n",
       "4        p100004  EXAMINATION:  CTA HEAD AND CTA NECK Q16 CT  IN...\n",
       "...          ...                                                ...\n",
       "27917    p117132  EXAMINATION:  CHEST (PORTABLE AP)  INDICATION:...\n",
       "27918    p117132  EXAMINATION:  CHEST (PORTABLE AP)  INDICATION:...\n",
       "27919    p117132  EXAMINATION:  CHEST (PORTABLE AP)  INDICATION:...\n",
       "27920    p117132  EXAMINATION:  FEMORAL VASCULAR US LEFT PORT  I...\n",
       "27921    p117132  EXAMINATION:  CHEST (PORTABLE AP)  INDICATION:...\n",
       "\n",
       "[27922 rows x 2 columns]"
      ]
     },
     "execution_count": 5,
     "metadata": {},
     "output_type": "execute_result"
    }
   ],
   "source": [
    "data"
   ]
  },
  {
   "cell_type": "code",
   "execution_count": 4,
   "metadata": {},
   "outputs": [],
   "source": [
    "# Group radiology reports by patient_id and concatenate the text\n",
    "data = data.groupby('patient_id')['text'].apply(lambda x: ' '.join(x)).reset_index()"
   ]
  },
  {
   "cell_type": "code",
   "execution_count": 5,
   "metadata": {},
   "outputs": [],
   "source": [
    "# Merge radiology data with label data based on patient_id\n",
    "data = pd.merge(data, labels, on='patient_id', how='left')"
   ]
  },
  {
   "cell_type": "code",
   "execution_count": 6,
   "metadata": {},
   "outputs": [],
   "source": [
    "# Tokenization\n",
    "data['tokenized_text'] = data['text'].apply(lambda x: word_tokenize(x.lower()))"
   ]
  },
  {
   "cell_type": "code",
   "execution_count": 7,
   "metadata": {},
   "outputs": [],
   "source": [
    "# Data Preprocessing\n",
    "stop_words = set(stopwords.words('english'))\n",
    "ps = PorterStemmer()"
   ]
  },
  {
   "cell_type": "code",
   "execution_count": 8,
   "metadata": {},
   "outputs": [],
   "source": [
    "def preprocess_text(tokens):\n",
    "    tokens = [token for token in tokens if token.isalpha()]  # Remove punctuation\n",
    "    tokens = [token for token in tokens if token not in stop_words]  # Remove stop words\n",
    "    tokens = [ps.stem(token) for token in tokens]  # Stemming\n",
    "    return tokens"
   ]
  },
  {
   "cell_type": "code",
   "execution_count": 9,
   "metadata": {},
   "outputs": [],
   "source": [
    "data['tokenized_text'] = data['tokenized_text'].apply(preprocess_text)"
   ]
  },
  {
   "cell_type": "code",
   "execution_count": 15,
   "metadata": {},
   "outputs": [
    {
     "data": {
      "text/plain": [
       "0        [ap, chest, histori, man, rapidli, develop, ba...\n",
       "1        [examin, cta, chest, candrecon, indic, histori...\n",
       "2        [examin, left, vertebr, arteri, angiogram, rig...\n",
       "3        [indic, man, histori, copd, pneumonia, report,...\n",
       "4        [portabl, chest, comparison, studi, earlier, d...\n",
       "                               ...                        \n",
       "13703    [ap, chest, histori, acut, pancreat, question,...\n",
       "13704    [examin, portabl, chest, radiograph, indic, ye...\n",
       "13705    [examin, chest, portabl, ap, indic, year, old,...\n",
       "13706    [examin, chest, portabl, ap, indic, year, old,...\n",
       "13707    [examin, cta, chest, indic, lung, cancer, dysp...\n",
       "Name: tokenized_text, Length: 13708, dtype: object"
      ]
     },
     "execution_count": 15,
     "metadata": {},
     "output_type": "execute_result"
    }
   ],
   "source": [
    "data['tokenized_text']"
   ]
  },
  {
   "cell_type": "code",
   "execution_count": 39,
   "metadata": {},
   "outputs": [],
   "source": [
    "# Feature Extraction\n",
    "vectorizer = CountVectorizer(max_features=32)\n",
    "X = vectorizer.fit_transform(data['tokenized_text'].apply(lambda x: ' '.join(x)))"
   ]
  },
  {
   "cell_type": "code",
   "execution_count": 17,
   "metadata": {},
   "outputs": [
    {
     "data": {
      "text/plain": [
       "<13708x512 sparse matrix of type '<class 'numpy.int64'>'\n",
       "\twith 1174069 stored elements in Compressed Sparse Row format>"
      ]
     },
     "execution_count": 17,
     "metadata": {},
     "output_type": "execute_result"
    }
   ],
   "source": [
    "X"
   ]
  },
  {
   "cell_type": "code",
   "execution_count": 30,
   "metadata": {},
   "outputs": [],
   "source": [
    "Y = data['label']"
   ]
  },
  {
   "cell_type": "code",
   "execution_count": 40,
   "metadata": {},
   "outputs": [],
   "source": [
    "# Split the data into training, validation, and test sets\n",
    "X_train_val, X_test, y_train_val, y_test = train_test_split(X, Y, test_size=0.2, random_state=42)\n",
    "X_train, X_val, y_train, y_val = train_test_split(X_train_val, y_train_val, test_size=0.2, random_state=42)\n",
    "\n",
    "# Train the model\n",
    "model = RandomForestClassifier()\n",
    "model.fit(X_train, y_train)\n",
    "\n",
    "# Evaluate on validation set\n",
    "val_predictions = model.predict_proba(X_val)"
   ]
  },
  {
   "cell_type": "code",
   "execution_count": 32,
   "metadata": {},
   "outputs": [
    {
     "data": {
      "text/plain": [
       "array([[0.95, 0.05],\n",
       "       [0.96, 0.04],\n",
       "       [0.86, 0.14],\n",
       "       ...,\n",
       "       [0.87, 0.13],\n",
       "       [0.92, 0.08],\n",
       "       [0.9 , 0.1 ]])"
      ]
     },
     "execution_count": 32,
     "metadata": {},
     "output_type": "execute_result"
    }
   ],
   "source": [
    "val_predictions"
   ]
  },
  {
   "cell_type": "code",
   "execution_count": 41,
   "metadata": {},
   "outputs": [],
   "source": [
    "val_predictions = (val_predictions[:, 1] > 0.5).astype(int)"
   ]
  },
  {
   "cell_type": "code",
   "execution_count": 42,
   "metadata": {},
   "outputs": [
    {
     "name": "stdout",
     "output_type": "stream",
     "text": [
      "Validation Accuracy: 0.8915223336371924\n",
      "Top 10 features:\n",
      "right: 0.05343941350213106\n",
      "left: 0.04859303789060004\n",
      "tube: 0.041319961712764176\n",
      "chest: 0.039303128140130074\n",
      "lung: 0.03738167523182705\n",
      "find: 0.03669553473289732\n",
      "bilater: 0.03592409726177108\n",
      "edema: 0.03503992751769627\n",
      "pulmonari: 0.032780770762557546\n",
      "evid: 0.032730274530945715\n"
     ]
    }
   ],
   "source": [
    "val_accuracy = accuracy_score(y_val, val_predictions)\n",
    "print(\"Validation Accuracy:\", val_accuracy)\n",
    "\n",
    "# Get feature importance\n",
    "feature_importance = model.feature_importances_\n",
    "\n",
    "# Map feature names to their importance scores\n",
    "feature_names = vectorizer.get_feature_names_out()\n",
    "importance_dict = dict(zip(feature_names, feature_importance))\n",
    "\n",
    "# Sort feature importance dictionary by importance score (descending order)\n",
    "sorted_importance = sorted(importance_dict.items(), key=lambda x: x[1], reverse=True)\n",
    "\n",
    "# Print top features\n",
    "top_features = 10  # Number of top features to display\n",
    "print(f\"Top {top_features} features:\")\n",
    "for feature, importance in sorted_importance[:top_features]:\n",
    "    print(f\"{feature}: {importance}\")\n"
   ]
  }
 ],
 "metadata": {
  "kernelspec": {
   "display_name": "Python 3",
   "language": "python",
   "name": "python3"
  },
  "language_info": {
   "codemirror_mode": {
    "name": "ipython",
    "version": 3
   },
   "file_extension": ".py",
   "mimetype": "text/x-python",
   "name": "python",
   "nbconvert_exporter": "python",
   "pygments_lexer": "ipython3",
   "version": "3.11.4"
  }
 },
 "nbformat": 4,
 "nbformat_minor": 2
}
