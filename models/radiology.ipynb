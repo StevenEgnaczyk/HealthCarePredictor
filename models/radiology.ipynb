{
 "cells": [
  {
   "cell_type": "code",
   "execution_count": 109,
   "metadata": {},
   "outputs": [],
   "source": [
    "# Necessary import statements\n",
    "import pandas as pd\n",
    "from nltk.tokenize import word_tokenize\n",
    "from nltk.corpus import stopwords\n",
    "from nltk.stem import PorterStemmer\n",
    "from sklearn.feature_extraction.text import CountVectorizer\n",
    "from sklearn.model_selection import train_test_split\n",
    "from sklearn.ensemble import RandomForestClassifier\n",
    "from sklearn.metrics import accuracy_score\n",
    "import time\n",
    "import sys\n",
    "from sklearn.svm import SVC\n",
    "import numpy as np\n",
    "import nltk\n",
    "import pandas as pd\n",
    "from sklearn.model_selection import train_test_split\n",
    "from sklearn.feature_extraction.text import CountVectorizer\n",
    "from sklearn.feature_selection import SelectKBest, chi2\n",
    "from sklearn.preprocessing import StandardScaler\n",
    "from sklearn.metrics import roc_curve, precision_score, f1_score, recall_score, roc_auc_score\n",
    "from nltk.stem import PorterStemmer\n",
    "from nltk.corpus import stopwords\n",
    "import matplotlib.pyplot as plt\n",
    "from sklearn.neighbors import KNeighborsClassifier\n",
    "from sklearn.tree import DecisionTreeClassifier\n",
    "import matplotlib.pyplot as plt\n",
    "from sklearn.metrics import roc_curve, auc\n",
    "from sklearn.naive_bayes import MultinomialNB\n",
    "import pandas as pd\n",
    "from sklearn.cluster import KMeans\n",
    "from sklearn.preprocessing import StandardScaler\n",
    "from sklearn.decomposition import PCA\n",
    "import matplotlib.pyplot as plt\n",
    "import time\n",
    "import matplotlib.pyplot as plt\n",
    "import numpy as np\n",
    "import pandas as pd\n",
    "from sklearn.model_selection import train_test_split\n",
    "from sklearn.tree import DecisionTreeClassifier\n",
    "from sklearn.metrics import accuracy_score, precision_score, recall_score, roc_auc_score, RocCurveDisplay, PrecisionRecallDisplay\n",
    "from sklearn.ensemble import HistGradientBoostingClassifier\n"
   ]
  },
  {
   "cell_type": "code",
   "execution_count": 174,
   "metadata": {},
   "outputs": [],
   "source": [
    "# Load the relevant data\n",
    "radiology_data = pd.read_csv('../train/train_radiology.csv')\n",
    "demographics_data = pd.read_csv('../train/train_demos.csv')\n",
    "sign_data = pd.read_csv('../train/train_signs.csv')\n",
    "labels = pd.read_csv('../train/train_labels.csv').set_index('patient_id')"
   ]
  },
  {
   "cell_type": "code",
   "execution_count": 240,
   "metadata": {},
   "outputs": [],
   "source": [
    "# Create a testing, training, and validation set based on the patient id\n",
    "X_train, X_temp, Y_train, Y_temp = train_test_split(labels.index, labels['label'], test_size=0.2, random_state=42)\n",
    "X_val, X_test, Y_val, Y_test = train_test_split(X_temp, Y_temp, test_size=0.5, random_state=42)"
   ]
  },
  {
   "cell_type": "markdown",
   "metadata": {},
   "source": [
    "## Clustering"
   ]
  },
  {
   "cell_type": "code",
   "execution_count": 249,
   "metadata": {},
   "outputs": [
    {
     "name": "stderr",
     "output_type": "stream",
     "text": [
      "c:\\Users\\steve\\AppData\\Local\\Programs\\Python\\Python311\\Lib\\site-packages\\sklearn\\cluster\\_kmeans.py:1416: FutureWarning: The default value of `n_init` will change from 10 to 'auto' in 1.4. Set the value of `n_init` explicitly to suppress the warning\n",
      "  super()._check_params_vs_input(X, default_n_init=10)\n"
     ]
    },
    {
     "data": {
      "text/plain": [
       "'\\n# Visualize the clusters using the reduced-dimensional data\\nplt.scatter(df_pca[:, 0], df_pca[:, 1], c=clustering_data[\\'cluster\\'], cmap=\\'viridis\\')\\nplt.xlabel(\\'Principal Component 1\\')\\nplt.ylabel(\\'Principal Component 2\\')\\nplt.title(\\'Clustering of Patients (PCA)\\')\\nplt.colorbar(label=\\'Cluster\\')\\nplt.show()\\n\\n# Group the DataFrame by \\'cluster\\' and \\'label\\', and count the occurrences\\ncluster_label_counts = clustering_data.groupby([\\'cluster\\', \\'label\\']).size().unstack(fill_value=0)\\n\\n# Calculate the total count of each label in each cluster\\ncluster_total_counts = cluster_label_counts.sum(axis=1)\\n\\n# Calculate the percentage of each label value in each cluster\\ncluster_label_percentages = cluster_label_counts.div(cluster_total_counts, axis=0) * 100\\n\\nprint(\"Percentage of each label value in each cluster:\")\\nprint(np.round(cluster_label_percentages,2))\\n\\nprint(cluster_total_counts)\\n'"
      ]
     },
     "execution_count": 249,
     "metadata": {},
     "output_type": "execute_result"
    }
   ],
   "source": [
    "clustering_data = demographics_data.merge(labels, left_on='patient_id',right_on='patient_id')\n",
    "\n",
    "df_clustering = clustering_data.drop(['patient_id', 'admittime'], axis=1)\n",
    "# Preprocess categorical variables (e.g., one-hot encoding for 'gender', 'insurance', 'marital_status', 'ethnicity')\n",
    "\n",
    "# Example: One-hot encoding for categorical variables\n",
    "df_clustering = pd.get_dummies(df_clustering, columns=['gender', 'insurance', 'marital_status', 'ethnicity'])\n",
    "\n",
    "# Standardize numerical features\n",
    "scaler = StandardScaler()\n",
    "df_clustering_scaled = scaler.fit_transform(df_clustering)\n",
    "\n",
    "# Apply PCA for dimensionality reduction\n",
    "pca = PCA(n_components=2, random_state=42)  # Reduce to 2 dimensions for visualization\n",
    "df_pca = pca.fit_transform(df_clustering_scaled)\n",
    "\n",
    "# Apply K-means clustering\n",
    "kmeans = KMeans(n_clusters=6, random_state=42)  # Specify the number of clusters\n",
    "clusters = kmeans.fit_predict(df_clustering_scaled)\n",
    "\n",
    "# Count the number of samples in each cluster\n",
    "cluster_counts = np.bincount(clusters)\n",
    "\n",
    "# Specify the minimum cluster size\n",
    "min_cluster_size = 100\n",
    "\n",
    "# Find clusters with size less than the minimum\n",
    "small_clusters = np.where(cluster_counts < min_cluster_size)[0]\n",
    "\n",
    "# Merge small clusters into larger ones or discard them entirely\n",
    "for small_cluster in small_clusters:\n",
    "    # Example: Merge small clusters into the largest nearby cluster\n",
    "    closest_cluster = np.argsort(np.linalg.norm(kmeans.cluster_centers_ - kmeans.cluster_centers_[small_cluster], axis=1))[1]\n",
    "    clusters[clusters == small_cluster] = closest_cluster\n",
    "\n",
    "\n",
    "# Add the cluster labels to the original DataFrame\n",
    "clustering_data['cluster'] = clusters\n",
    "clusters = clustering_data['cluster'].to_list()\n",
    "\n",
    "\"\"\"\n",
    "# Visualize the clusters using the reduced-dimensional data\n",
    "plt.scatter(df_pca[:, 0], df_pca[:, 1], c=clustering_data['cluster'], cmap='viridis')\n",
    "plt.xlabel('Principal Component 1')\n",
    "plt.ylabel('Principal Component 2')\n",
    "plt.title('Clustering of Patients (PCA)')\n",
    "plt.colorbar(label='Cluster')\n",
    "plt.show()\n",
    "\n",
    "# Group the DataFrame by 'cluster' and 'label', and count the occurrences\n",
    "cluster_label_counts = clustering_data.groupby(['cluster', 'label']).size().unstack(fill_value=0)\n",
    "\n",
    "# Calculate the total count of each label in each cluster\n",
    "cluster_total_counts = cluster_label_counts.sum(axis=1)\n",
    "\n",
    "# Calculate the percentage of each label value in each cluster\n",
    "cluster_label_percentages = cluster_label_counts.div(cluster_total_counts, axis=0) * 100\n",
    "\n",
    "print(\"Percentage of each label value in each cluster:\")\n",
    "print(np.round(cluster_label_percentages,2))\n",
    "\n",
    "print(cluster_total_counts)\n",
    "\"\"\"\n",
    "\n"
   ]
  },
  {
   "cell_type": "markdown",
   "metadata": {},
   "source": [
    "## Radiology Data"
   ]
  },
  {
   "cell_type": "code",
   "execution_count": 250,
   "metadata": {},
   "outputs": [],
   "source": [
    "# Group radiology reports by patient_id and concatenate the text\n",
    "radiology_data = radiology_data.groupby('patient_id')['text'].apply(lambda x: ' '.join(x)).reset_index()\n",
    "radiology_data['cluster'] = clusters"
   ]
  },
  {
   "cell_type": "code",
   "execution_count": 178,
   "metadata": {},
   "outputs": [],
   "source": [
    "# Tokenization\n",
    "radiology_data['tokenized_text'] = radiology_data['text'].apply(lambda x: word_tokenize(x.lower()))"
   ]
  },
  {
   "cell_type": "code",
   "execution_count": 179,
   "metadata": {},
   "outputs": [],
   "source": [
    "# Data Preprocessing\n",
    "stop_words = set(stopwords.words('english'))\n",
    "ps = PorterStemmer()\n",
    "\n",
    "def preprocess_text(tokens):\n",
    "    tokens = [token for token in tokens if token.isalpha()]  # Remove punctuation\n",
    "    tokens = [token for token in tokens if token not in stop_words]  # Remove stop words\n",
    "    tokens = [ps.stem(token) for token in tokens]  # Stemming\n",
    "    return tokens"
   ]
  },
  {
   "cell_type": "code",
   "execution_count": 180,
   "metadata": {},
   "outputs": [],
   "source": [
    "radiology_data['tokenized_text'] = radiology_data['tokenized_text'].apply(preprocess_text)"
   ]
  },
  {
   "cell_type": "code",
   "execution_count": 181,
   "metadata": {},
   "outputs": [],
   "source": [
    "# Merge radiology data with label data based on patient_id\n",
    "radiology_data = pd.merge(radiology_data, labels, on='patient_id', how='left')"
   ]
  },
  {
   "cell_type": "code",
   "execution_count": 182,
   "metadata": {},
   "outputs": [],
   "source": [
    "radiology_data.set_index('patient_id', inplace=True)"
   ]
  },
  {
   "cell_type": "code",
   "execution_count": 234,
   "metadata": {},
   "outputs": [],
   "source": [
    "# Split data into features and labels\n",
    "X = radiology_data['tokenized_text']\n",
    "Y = radiology_data['label']"
   ]
  },
  {
   "cell_type": "code",
   "execution_count": 244,
   "metadata": {},
   "outputs": [],
   "source": [
    "X_train_radiology = X.loc[X_train]\n",
    "X_test_radiology = X.loc[X_test]\n",
    "Y_train_radiology = Y.loc[Y_train.index]\n",
    "Y_test_radiology = Y.loc[Y_test.index]"
   ]
  },
  {
   "cell_type": "code",
   "execution_count": 245,
   "metadata": {},
   "outputs": [
    {
     "name": "stdout",
     "output_type": "stream",
     "text": [
      "0.672438376044286\n"
     ]
    }
   ],
   "source": [
    "# Iterate over each cluster\n",
    "cluster_list = radiology_data['cluster'].unique()\n",
    "\n",
    "y_test_total = []\n",
    "y_pred_total = []\n",
    "\n",
    "roc_vals = []\n",
    "\n",
    "radiology_models = {}\n",
    "\n",
    "for cluster in cluster_list:\n",
    "\n",
    "    # Filter data for the current cluster\n",
    "    X_train_cluster = X_train_radiology[radiology_data['cluster'] == cluster]\n",
    "    y_train_cluster = Y_train_radiology[radiology_data['cluster'] == cluster]\n",
    "    X_test_cluster = X_test_radiology[radiology_data['cluster'] == cluster]\n",
    "    y_test_cluster = Y_test_radiology[radiology_data['cluster'] == cluster]    \n",
    "\n",
    "    # Convert tokenized text into numerical features using Bag-of-Words\n",
    "    vectorizer = CountVectorizer()\n",
    "    X_train_bow = vectorizer.fit_transform(X_train_cluster.apply(lambda x: ' '.join(x)))\n",
    "    X_test_bow = vectorizer.transform(X_test_cluster.apply(lambda x: ' '.join(x)))\n",
    "\n",
    "    # Train a Random Forest classifier\n",
    "    clf = RandomForestClassifier(n_estimators=100, random_state=42)\n",
    "    clf.fit(X_train_bow, y_train_cluster)\n",
    "\n",
    "    # Predict probabilities\n",
    "    y_pred_proba = clf.predict_proba(X_test_bow)[:,1]\n",
    "    \n",
    "    # Calculate ROC curve\n",
    "    fpr, tpr, _ = roc_curve(y_test_cluster, y_pred_proba)\n",
    "    roc_auc = auc(fpr, tpr)\n",
    "\n",
    "    y_test_total.extend(y_test_cluster)\n",
    "    y_pred_total.extend(y_pred_proba)\n",
    "\n",
    "    roc_vals.append(roc_auc)\n",
    "\n",
    "print(np.average(roc_vals))\n"
   ]
  },
  {
   "cell_type": "code",
   "execution_count": 246,
   "metadata": {},
   "outputs": [
    {
     "name": "stdout",
     "output_type": "stream",
     "text": [
      "Total AUC: 0.6641027287319423\n"
     ]
    },
    {
     "data": {
      "image/png": "[encoded data removed]",
      "text/plain": [
       "<Figure size 640x480 with 1 Axes>"
      ]
     },
     "metadata": {},
     "output_type": "display_data"
    }
   ],
   "source": [
    "# Calculate ROC curve\n",
    "fpr, tpr, _ = roc_curve(y_test_total, y_pred_total)\n",
    "roc_auc = auc(fpr, tpr)\n",
    "\n",
    "#  Print total AUC\n",
    "print(f\"Total AUC: {roc_auc}\")\n",
    "\n",
    "# Plot total ROC curve\n",
    "plt.figure()\n",
    "plt.plot(fpr, tpr, color='darkorange', lw=2, label=f'Total ROC curve (AUC = {roc_auc:.2f})')\n",
    "plt.plot([0, 1], [0, 1], color='navy', lw=2, linestyle='--')\n",
    "plt.xlim([0.0, 1.0])\n",
    "plt.ylim([0.0, 1.05])\n",
    "plt.xlabel('False Positive Rate')\n",
    "plt.ylabel('True Positive Rate')\n",
    "plt.title('Total ROC Curve')\n",
    "plt.legend(loc=\"lower right\")\n",
    "plt.show()"
   ]
  },
  {
   "cell_type": "markdown",
   "metadata": {},
   "source": [
    "## Stats"
   ]
  },
  {
   "cell_type": "code",
   "execution_count": 251,
   "metadata": {},
   "outputs": [],
   "source": [
    "# Calculate mean, min, and max for each vital sign for each patient\n",
    "num_cols = sign_data.select_dtypes(include=[np.number]).columns\n",
    "stats = sign_data.groupby(\"patient_id\")[num_cols].agg(['mean','max','min'])\n",
    "stats.columns = ['_'.join(col) for col in stats.columns]\n",
    "stats['cluster'] = clusters\n",
    "stats = pd.merge(stats, labels, on='patient_id', how='left')"
   ]
  },
  {
   "cell_type": "code",
   "execution_count": 254,
   "metadata": {},
   "outputs": [],
   "source": [
    "X = stats.drop(columns=['cluster', 'label'])\n",
    "Y = stats['label']"
   ]
  },
  {
   "cell_type": "code",
   "execution_count": 255,
   "metadata": {},
   "outputs": [],
   "source": [
    "X_train_stats = X.loc[X_train]\n",
    "X_test_stats = X.loc[X_test]\n",
    "Y_train_stats = Y.loc[Y_train.index]\n",
    "Y_test_stats = Y.loc[Y_test.index]"
   ]
  },
  {
   "cell_type": "code",
   "execution_count": 260,
   "metadata": {},
   "outputs": [
    {
     "name": "stderr",
     "output_type": "stream",
     "text": [
      "C:\\Users\\steve\\AppData\\Local\\Temp\\ipykernel_29472\\4242304514.py:11: UserWarning: Boolean Series key will be reindexed to match DataFrame index.\n",
      "  X_train_cluster = X_train_stats[stats['cluster'] == cluster]\n",
      "C:\\Users\\steve\\AppData\\Local\\Temp\\ipykernel_29472\\4242304514.py:13: UserWarning: Boolean Series key will be reindexed to match DataFrame index.\n",
      "  X_test_cluster = X_test_stats[stats['cluster'] == cluster]\n",
      "C:\\Users\\steve\\AppData\\Local\\Temp\\ipykernel_29472\\4242304514.py:11: UserWarning: Boolean Series key will be reindexed to match DataFrame index.\n",
      "  X_train_cluster = X_train_stats[stats['cluster'] == cluster]\n",
      "C:\\Users\\steve\\AppData\\Local\\Temp\\ipykernel_29472\\4242304514.py:13: UserWarning: Boolean Series key will be reindexed to match DataFrame index.\n",
      "  X_test_cluster = X_test_stats[stats['cluster'] == cluster]\n",
      "C:\\Users\\steve\\AppData\\Local\\Temp\\ipykernel_29472\\4242304514.py:11: UserWarning: Boolean Series key will be reindexed to match DataFrame index.\n",
      "  X_train_cluster = X_train_stats[stats['cluster'] == cluster]\n",
      "C:\\Users\\steve\\AppData\\Local\\Temp\\ipykernel_29472\\4242304514.py:13: UserWarning: Boolean Series key will be reindexed to match DataFrame index.\n",
      "  X_test_cluster = X_test_stats[stats['cluster'] == cluster]\n",
      "C:\\Users\\steve\\AppData\\Local\\Temp\\ipykernel_29472\\4242304514.py:11: UserWarning: Boolean Series key will be reindexed to match DataFrame index.\n",
      "  X_train_cluster = X_train_stats[stats['cluster'] == cluster]\n",
      "C:\\Users\\steve\\AppData\\Local\\Temp\\ipykernel_29472\\4242304514.py:13: UserWarning: Boolean Series key will be reindexed to match DataFrame index.\n",
      "  X_test_cluster = X_test_stats[stats['cluster'] == cluster]\n",
      "C:\\Users\\steve\\AppData\\Local\\Temp\\ipykernel_29472\\4242304514.py:11: UserWarning: Boolean Series key will be reindexed to match DataFrame index.\n",
      "  X_train_cluster = X_train_stats[stats['cluster'] == cluster]\n",
      "C:\\Users\\steve\\AppData\\Local\\Temp\\ipykernel_29472\\4242304514.py:13: UserWarning: Boolean Series key will be reindexed to match DataFrame index.\n",
      "  X_test_cluster = X_test_stats[stats['cluster'] == cluster]\n"
     ]
    },
    {
     "name": "stdout",
     "output_type": "stream",
     "text": [
      "0.7887190070664534\n"
     ]
    }
   ],
   "source": [
    "# Iterate over each cluster\n",
    "clusters_list = stats['cluster'].unique()\n",
    "\n",
    "y_test_total = []\n",
    "y_pred_total = []\n",
    "\n",
    "roc_vals = []\n",
    "\n",
    "for cluster in clusters_list:\n",
    "    # Filter data for the current cluster\n",
    "    X_train_cluster = X_train_stats[stats['cluster'] == cluster]\n",
    "    y_train_cluster = Y_train_stats[stats['cluster'] == cluster]\n",
    "    X_test_cluster = X_test_stats[stats['cluster'] == cluster]\n",
    "    y_test_cluster = Y_test_stats[stats['cluster'] == cluster]    \n",
    "\n",
    "    # Train classifier on the data\n",
    "    classifier = HistGradientBoostingClassifier(random_state = 0)\n",
    "    classifier.fit(X_train_cluster, y_train_cluster)\n",
    "\n",
    "    # Predict probabilities\n",
    "    y_pred_proba = classifier.predict_proba(X_test_cluster)[:,1]\n",
    "    \n",
    "    # Calculate ROC curve\n",
    "    fpr, tpr, _ = roc_curve(y_test_cluster, y_pred_proba)\n",
    "    roc_auc = auc(fpr, tpr)\n",
    "\n",
    "    y_test_total.extend(y_test_cluster)\n",
    "    y_pred_total.extend(y_pred_proba)\n",
    "\n",
    "    roc_vals.append(roc_auc)\n",
    "    \n",
    "\n",
    "print(np.average(roc_vals))\n"
   ]
  },
  {
   "cell_type": "code",
   "execution_count": 261,
   "metadata": {},
   "outputs": [
    {
     "name": "stdout",
     "output_type": "stream",
     "text": [
      "Total AUC: 0.760808988764045\n"
     ]
    },
    {
     "data": {
      "image/png": "[encoded data removed]",
      "text/plain": [
       "<Figure size 640x480 with 1 Axes>"
      ]
     },
     "metadata": {},
     "output_type": "display_data"
    }
   ],
   "source": [
    "# Calculate ROC curve\n",
    "fpr, tpr, _ = roc_curve(y_test_total, y_pred_total)\n",
    "roc_auc = auc(fpr, tpr)\n",
    "\n",
    "#  Print total AUC\n",
    "print(f\"Total AUC: {roc_auc}\")\n",
    "\n",
    "# Plot total ROC curve\n",
    "plt.figure()\n",
    "plt.plot(fpr, tpr, color='darkorange', lw=2, label=f'Total ROC curve (AUC = {roc_auc:.2f})')\n",
    "plt.plot([0, 1], [0, 1], color='navy', lw=2, linestyle='--')\n",
    "plt.xlim([0.0, 1.0])\n",
    "plt.ylim([0.0, 1.05])\n",
    "plt.xlabel('False Positive Rate')\n",
    "plt.ylabel('True Positive Rate')\n",
    "plt.title('Total ROC Curve')\n",
    "plt.legend(loc=\"lower right\")\n",
    "plt.show()"
   ]
  },
  {
   "cell_type": "code",
   "execution_count": null,
   "metadata": {},
   "outputs": [],
   "source": []
  }
 ],
 "metadata": {
  "kernelspec": {
   "display_name": "Python 3",
   "language": "python",
   "name": "python3"
  },
  "language_info": {
   "codemirror_mode": {
    "name": "ipython",
    "version": 3
   },
   "file_extension": ".py",
   "mimetype": "text/x-python",
   "name": "python",
   "nbconvert_exporter": "python",
   "pygments_lexer": "ipython3",
   "version": "3.11.4"
  }
 },
 "nbformat": 4,
 "nbformat_minor": 2
}
